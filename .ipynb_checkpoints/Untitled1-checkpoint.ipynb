{
 "cells": [
  {
   "cell_type": "code",
   "execution_count": 1,
   "metadata": {},
   "outputs": [],
   "source": [
    "import jieba\n",
    "import re\n",
    "import torch\n",
    "import torch.nn as nn\n",
    "import gensim\n",
    "from torch.utils.data import Dataset,DataLoader\n",
    "from gensim.corpora.dictionary import Dictionary\n",
    "from torch.nn import functional as F\n",
    "\n",
    "path = './harrypotter.txt'\n",
    "with open(path,'r',encoding='gb18030') as f:\n",
    "    article = f.read()\n",
    "    f.close()\n",
    "\n",
    "def text2sentence(text):\n",
    "#     sentences = []\n",
    "    raw_sentence = re.findall(\"[\\w+[\\，\\、\\\"]*\\w+[\\！\\。\\？]\\\"*]*\",text)\n",
    "#     for sentence in raw_sentence:\n",
    "#         sentences.append(''.join(re.findall(\"\\w+\",sentence)))\n",
    "    return raw_sentence\n",
    "\n",
    "\n",
    "\n",
    "corpus = list(jieba.cut(article))\n",
    "dictionary = Dictionary([corpus])\n",
    "stop_words = [' ' , '\\u3000' , '\\ue4c6' , '」' , '「' , '┅' , '\\n','…']\n",
    "corpus = [word for word in corpus if word not in stop_words ]\n",
    "\n",
    "with open(\"./corpus.txt\",'w',encoding='utf-8') as f:\n",
    "    f.write(\" \".join(corpus))\n",
    "\n",
    "sentences = gensim.models.word2vec.Text8Corpus(\"./corpus.txt\")\n",
    "\n",
    "model=gensim.models.word2vec.Word2Vec(sentences,min_count=0,size=300)\n",
    "\n",
    "model.save('./harrypotter.model')"
   ]
  }
 ],
 "metadata": {
  "kernelspec": {
   "display_name": "Python 3",
   "language": "python",
   "name": "python3"
  },
  "language_info": {
   "codemirror_mode": {
    "name": "ipython",
    "version": 3
   },
   "file_extension": ".py",
   "mimetype": "text/x-python",
   "name": "python",
   "nbconvert_exporter": "python",
   "pygments_lexer": "ipython3",
   "version": "3.6.8"
  }
 },
 "nbformat": 4,
 "nbformat_minor": 2
}
